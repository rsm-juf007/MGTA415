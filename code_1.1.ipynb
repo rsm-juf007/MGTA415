{
 "cells": [
  {
   "cell_type": "markdown",
   "metadata": {},
   "source": [
    "### **test**"
   ]
  },
  {
   "cell_type": "code",
   "execution_count": 129,
   "metadata": {},
   "outputs": [],
   "source": [
    "import numpy as np\n",
    "import pandas as pd\n",
    "import gzip\n",
    "import json\n",
    "from collections import defaultdict\n",
    "from nltk.sentiment import SentimentIntensityAnalyzer\n",
    "from sklearn.feature_extraction.text import TfidfVectorizer\n",
    "from sklearn.metrics.pairwise import cosine_similarity\n",
    "from gensim.models import Word2Vec\n",
    "import multiprocessing\n",
    "\n",
    "# def filter_2017_data(file_path):\n",
    "#     data_2017 = []\n",
    "#     with gzip.open(file_path, 'r') as f:\n",
    "#         for line in f:\n",
    "#             entry = json.loads(line)\n",
    "#             review_date = entry.get('review_date')\n",
    "#             if review_date:\n",
    "#                 try:\n",
    "#                     date = datetime.strptime(review_date, \"%B %d, %Y\")\n",
    "#                     if date.year == 2017 & date.year == 2016:\n",
    "#                         data_2017.append(entry)\n",
    "#                 except ValueError:\n",
    "#                     continue\n",
    "#     return data_2017\n",
    "\n",
    "def load_data(file_path):\n",
    "    dataset = []\n",
    "    with gzip.open(file_path, 'rt', encoding='utf-8') as f:\n",
    "        for line in f:\n",
    "            dataset.append(json.loads(line))\n",
    "    return dataset\n"
   ]
  },
  {
   "cell_type": "markdown",
   "metadata": {},
   "source": [
    "## computing tfidf"
   ]
  },
  {
   "cell_type": "code",
   "execution_count": 130,
   "metadata": {},
   "outputs": [],
   "source": [
    "def train_word2vec(data):\n",
    "    sentences = [entry[\"review_text\"].split() for entry in data if \"review_text\" in entry]\n",
    "    model = Word2Vec(sentences, vector_size=100, window=5, min_count=2, workers=multiprocessing.cpu_count())\n",
    "    \n",
    "    item_word2vec = {}\n",
    "    for entry in data:\n",
    "        item_id = entry[\"item_id\"]\n",
    "        words = entry.get(\"review_text\", \"\").split()\n",
    "        vectors = [model.wv[word] for word in words if word in model.wv]\n",
    "        item_word2vec[item_id] = np.mean(vectors, axis=0) if vectors else np.zeros(100)\n",
    "    \n",
    "    return model, item_word2vec\n",
    "\n",
    "def compute_tfidf_features(data):\n",
    "    vectorizer = TfidfVectorizer(max_features=500)\n",
    "    review_texts = [entry.get('review_text', '') for entry in data]\n",
    "    tfidf_matrix = vectorizer.fit_transform(review_texts)\n",
    "\n",
    "    item_tfidf = {\n",
    "        entry['item_id']: tfidf_matrix[i].toarray().flatten()\n",
    "        for i, entry in enumerate(data)\n",
    "    }\n",
    "    return vectorizer, item_tfidf"
   ]
  },
  {
   "cell_type": "code",
   "execution_count": 131,
   "metadata": {},
   "outputs": [
    {
     "name": "stderr",
     "output_type": "stream",
     "text": [
      "/var/folders/31/d8_mdwcs6k53znfr05m5f2mw0000gn/T/ipykernel_63940/3585008692.py:14: SettingWithCopyWarning: \n",
      "A value is trying to be set on a copy of a slice from a DataFrame.\n",
      "Try using .loc[row_indexer,col_indexer] = value instead\n",
      "\n",
      "See the caveats in the documentation: https://pandas.pydata.org/pandas-docs/stable/user_guide/indexing.html#returning-a-view-versus-a-copy\n",
      "  df[\"rating\"] = df[\"rating\"].fillna(6)\n",
      "/var/folders/31/d8_mdwcs6k53znfr05m5f2mw0000gn/T/ipykernel_63940/3585008692.py:15: SettingWithCopyWarning: \n",
      "A value is trying to be set on a copy of a slice from a DataFrame.\n",
      "Try using .loc[row_indexer,col_indexer] = value instead\n",
      "\n",
      "See the caveats in the documentation: https://pandas.pydata.org/pandas-docs/stable/user_guide/indexing.html#returning-a-view-versus-a-copy\n",
      "  df[\"label\"] = df[\"rating\"].apply(classify_rating)\n"
     ]
    }
   ],
   "source": [
    "def classify_rating(rating):\n",
    "    if rating is None:\n",
    "        return 'medium'\n",
    "\n",
    "    rating = int(rating) \n",
    "    if rating >= 8:\n",
    "        return 'high'\n",
    "    elif 6 <= rating <= 7:\n",
    "        return 'medium'\n",
    "    else:\n",
    "        return 'low'\n",
    "\n",
    "\n",
    "df[\"rating\"] = df[\"rating\"].fillna(6) \n",
    "df[\"label\"] = df[\"rating\"].apply(classify_rating)"
   ]
  },
  {
   "cell_type": "code",
   "execution_count": 132,
   "metadata": {},
   "outputs": [],
   "source": [
    "def prepare_data_fast(data, item_tfidf, item_word2vec):\n",
    "    sia = SentimentIntensityAnalyzer()\n",
    "    df = pd.DataFrame(data)\n",
    "\n",
    "    df[\"sentiment_score\"] = df[\"review_text\"].fillna(\"\").apply(lambda text: sia.polarity_scores(text)[\"compound\"])\n",
    "    df[\"tfidf_vector\"] = df[\"item_id\"].apply(lambda item_id: item_tfidf.get(item_id, np.zeros(500)))\n",
    "    df[\"word2vec_vector\"] = df[\"item_id\"].apply(lambda item_id: item_word2vec.get(item_id, np.zeros(100)))\n",
    "    user_history = defaultdict(list)\n",
    "    df[\"user_history\"] = df[\"user_id\"].apply(lambda user_id: user_history[user_id][:])\n",
    "\n",
    "    for _, row in df.iterrows():\n",
    "        user_history[row[\"user_id\"]].append(row[\"item_id\"])\n",
    "\n",
    "    df[\"label\"] = df[\"rating\"].apply(classify_rating)\n",
    "\n",
    "    features = df[[\"user_id\", \"item_id\", \"sentiment_score\", \"tfidf_vector\", \"word2vec_vector\", \"user_history\"]].to_dict(\"records\")\n",
    "    labels = df[\"label\"].tolist()\n",
    "\n",
    "    return features, labels"
   ]
  },
  {
   "cell_type": "code",
   "execution_count": 133,
   "metadata": {},
   "outputs": [],
   "source": [
    "def calculate_similarity(item_id, user_history, item_tfidf, item_word2vec, w_tfidf=0.5, w_word2vec=0.5):\n",
    "    if not user_history or item_id not in item_tfidf or item_id not in item_word2vec:\n",
    "        return 0\n",
    "\n",
    "    tfidf_vectors = [item_tfidf[item] for item in user_history if item in item_tfidf]\n",
    "    tfidf_similarity = np.mean(cosine_similarity([item_tfidf[item_id]], tfidf_vectors)) if tfidf_vectors else 0\n",
    "\n",
    "    word2vec_vectors = [item_word2vec[item] for item in user_history if item in item_word2vec]\n",
    "    word2vec_similarity = np.mean(cosine_similarity([item_word2vec[item_id]], word2vec_vectors)) if word2vec_vectors else 0\n",
    "\n",
    "    return w_tfidf * tfidf_similarity + w_word2vec * word2vec_similarity"
   ]
  },
  {
   "cell_type": "code",
   "execution_count": 134,
   "metadata": {},
   "outputs": [],
   "source": [
    "def split_data(features, labels, test_size=0.2):\n",
    "    data = list(zip(features, labels))\n",
    "    np.random.shuffle(data)\n",
    "    split_index = int(len(data) * (1 - test_size))\n",
    "    return data[:split_index], data[split_index:]"
   ]
  },
  {
   "cell_type": "code",
   "execution_count": 135,
   "metadata": {},
   "outputs": [],
   "source": [
    "def calculate_recommend_score(sentiment_score, similarity_score, w1, w2):\n",
    "    return w1 * sentiment_score + w2 * similarity_score\n"
   ]
  },
  {
   "cell_type": "code",
   "execution_count": 136,
   "metadata": {},
   "outputs": [],
   "source": [
    "def evaluate_weights(data, w1, w2, item_tfidf, item_word2vec):\n",
    "    y_true = []\n",
    "    y_pred = []\n",
    "    for feature, label in data:\n",
    "        sentiment_score = feature['sentiment_score']\n",
    "        similarity_score = calculate_similarity(feature['item_id'], feature['user_history'], item_tfidf, item_word2vec)\n",
    "        score = w1 * sentiment_score + w2 * similarity_score\n",
    "        predicted_label = 'high' if score >= 0.5 else 'medium' if 0.5 > score >= 0.2 else 'low'\n",
    "        y_true.append(label)\n",
    "        y_pred.append(predicted_label)\n",
    "    return np.mean(np.array(y_true) == np.array(y_pred))"
   ]
  },
  {
   "cell_type": "code",
   "execution_count": 137,
   "metadata": {},
   "outputs": [],
   "source": [
    "def optimize_weights(train_data, item_tfidf, item_word2vec):\n",
    "    best_w1, best_w2, best_accuracy = 0, 0, 0\n",
    "    for w1 in np.linspace(0.1, 0.9, 11):\n",
    "        w2 = 1 - w1\n",
    "        accuracy = evaluate_weights(train_data, w1, w2, item_tfidf, item_word2vec)\n",
    "        if accuracy > best_accuracy:\n",
    "            best_w1, best_w2, best_accuracy = w1, w2, accuracy\n",
    "    return best_w1, best_w2, best_accuracy"
   ]
  },
  {
   "cell_type": "code",
   "execution_count": 138,
   "metadata": {},
   "outputs": [],
   "source": [
    "def final_recommendation(features, w1, w2, item_tfidf):\n",
    "    recommendations = defaultdict(list)\n",
    "    for feature in features:\n",
    "        user_id = feature['user_id']\n",
    "        item_id = feature['item_id']\n",
    "        sentiment_score = feature['sentiment_score']\n",
    "        similarity_score = calculate_similarity(item_id, feature['user_history'], item_tfidf)\n",
    "        \n",
    "        score = calculate_recommend_score(sentiment_score, similarity_score, w1, w2)\n",
    "        recommendations[user_id].append((item_id, score))\n",
    "\n",
    "    for user_id in recommendations:\n",
    "        recommendations[user_id] = sorted(recommendations[user_id], key=lambda x: x[1], reverse=True)\n",
    "    \n",
    "    return recommendations"
   ]
  },
  {
   "cell_type": "code",
   "execution_count": 139,
   "metadata": {},
   "outputs": [
    {
     "name": "stdout",
     "output_type": "stream",
     "text": [
      "Loading data...\n",
      "TF-IDF & Word2Vec...\n",
      "processing data...\n",
      "split data...\n",
      "optimize weights...\n",
      "best weights: w1=0.9, w2=0.09999999999999998, accuracy=0.8309929561463304\n",
      "finished\n"
     ]
    }
   ],
   "source": [
    "if __name__ == \"__main__\":\n",
    "    print(\"Loading data...\")\n",
    "    data = load_data(\"renttherunway_final_data.json.gz\")\n",
    "\n",
    "    print(\"TF-IDF & Word2Vec...\")\n",
    "    vectorizer, item_tfidf = compute_tfidf_features(data)\n",
    "    word2vec_model, item_word2vec = train_word2vec(data)\n",
    "\n",
    "    print(\"processing data...\")\n",
    "    features, labels = prepare_data_fast(data, item_tfidf, item_word2vec)\n",
    "\n",
    "    print(\"split data...\")\n",
    "    train_data, val_data = split_data(features, labels)\n",
    "\n",
    "    print(\"optimize weights...\")\n",
    "    best_w1, best_w2, best_accuracy = optimize_weights(train_data, item_tfidf, item_word2vec)\n",
    "    print(f\"best weights: w1={best_w1}, w2={best_w2}, accuracy={best_accuracy}\")\n",
    "\n",
    "    print(\"finished\")"
   ]
  },
  {
   "cell_type": "markdown",
   "metadata": {},
   "source": [
    "## --------------Accuracy----------------"
   ]
  },
  {
   "cell_type": "code",
   "execution_count": 140,
   "metadata": {},
   "outputs": [
    {
     "data": {
      "image/png": "[encoded data removed]",
      "text/plain": [
       "<Figure size 900x600 with 1 Axes>"
      ]
     },
     "metadata": {},
     "output_type": "display_data"
    }
   ],
   "source": [
    "def evaluate_weights(data, w1, w2, item_tfidf, item_word2vec, w_tfidf=0.5, w_word2vec=0.5):\n",
    "    y_true = []\n",
    "    y_pred = []\n",
    "    \n",
    "    for feature, label in data:\n",
    "        sentiment_score = feature['sentiment_score']\n",
    "        similarity_score = calculate_similarity(\n",
    "            feature['item_id'], feature['user_history'], \n",
    "            item_tfidf, item_word2vec, \n",
    "            w_tfidf, w_word2vec\n",
    "        )\n",
    "        \n",
    "        score = w1 * sentiment_score + w2 * similarity_score\n",
    "        predicted_label = 'high' if score >= 0.5 else 'medium' if 0.5 > score >= 0.2 else 'low'\n",
    "        \n",
    "        y_true.append(label)\n",
    "        y_pred.append(predicted_label)\n",
    "    \n",
    "    return np.mean(np.array(y_true) == np.array(y_pred)) \n",
    "\n",
    "import matplotlib.pyplot as plt\n",
    "import numpy as np\n",
    "\n",
    "accuracies = []\n",
    "weights = np.linspace(0.1, 0.9, 11)\n",
    "\n",
    "for w1 in weights:\n",
    "    w2 = 1 - w1 \n",
    "    accuracy = evaluate_weights(\n",
    "        train_data, w1, w2, \n",
    "        item_tfidf=item_tfidf, \n",
    "        item_word2vec=item_word2vec, \n",
    "        w_tfidf=0.5,  \n",
    "        w_word2vec=0.5\n",
    "    )\n",
    "    accuracies.append(accuracy)\n",
    "\n",
    "\n",
    "plt.figure(figsize=(9, 6), facecolor=\"white\")\n",
    "plt.plot(weights, accuracies, marker='o', linestyle='-', color=\"orange\", linewidth=2, label=\"Accuracy\") \n",
    "plt.scatter(weights, accuracies, color=\"orange\", edgecolors='black', s=60, zorder=3) \n",
    "\n",
    "plt.xlabel(\"Weight w1 (Sentiment)\", fontsize=14, fontweight=\"bold\")\n",
    "plt.ylabel(\"Accuracy\", fontsize=14, fontweight=\"bold\")\n",
    "\n",
    "plt.legend(fontsize=12, loc=\"lower right\")\n",
    "plt.grid(color=\"gray\", linestyle=\"--\", linewidth=0.5, alpha=0.3)\n",
    "plt.xticks(fontsize=12)\n",
    "plt.yticks(fontsize=12)\n",
    "\n",
    "plt.show()"
   ]
  }
 ],
 "metadata": {
  "kernelspec": {
   "display_name": "base",
   "language": "python",
   "name": "python3"
  },
  "language_info": {
   "codemirror_mode": {
    "name": "ipython",
    "version": 3
   },
   "file_extension": ".py",
   "mimetype": "text/x-python",
   "name": "python",
   "nbconvert_exporter": "python",
   "pygments_lexer": "ipython3",
   "version": "3.12.4"
  }
 },
 "nbformat": 4,
 "nbformat_minor": 2
}
